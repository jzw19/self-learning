{
 "cells": [
  {
   "cell_type": "markdown",
   "id": "abfe3c07-e2de-405c-9cf7-1fddcd7bb254",
   "metadata": {},
   "source": [
    "<h1>\n",
    "The Complete Guide to Memory - The Science Behind Remembering Anything\n",
    "<br/>\n",
    "by Scott Young & Jacob Jilek\n",
    "</h1>"
   ]
  },
  {
   "cell_type": "markdown",
   "id": "dc357f2d-be66-4036-bcee-6ffd6546f713",
   "metadata": {},
   "source": [
    "2 basic kinds of memory:\n",
    "- Retrospective\n",
    "    - Remembering past events\n",
    "        - ... by content:\n",
    "            - Decalarative / Explicit\n",
    "                - _Semantic_ -- memory of facts or meaning\n",
    "                - _Episodic_ -- memory of experiences (events)\n",
    "        - ... by duration:\n",
    "            - Working memory\n",
    "                - immediate retrieval. Limited by what you can keep in mind at the moment\n",
    "            - Long-term memory\n",
    "                - anything you remember longer than a moment\n",
    "- Prospective\n",
    "    - Reminding self to do something in the future"
   ]
  },
  {
   "cell_type": "markdown",
   "id": "3a2bb24f-36c0-4f70-bc04-0d1ccd095e82",
   "metadata": {},
   "source": [
    "<h2>\n",
    "    The Three Parts Underlying all your Memories\n",
    "</h2>"
   ]
  },
  {
   "cell_type": "markdown",
   "id": "699ced28-515b-4d53-823c-2c3b46eb8ed7",
   "metadata": {},
   "source": [
    "1. Encoding\n",
    "2. Storage\n",
    "3. Retrieval"
   ]
  },
  {
   "cell_type": "markdown",
   "id": "d54fc18b-b8de-40e8-bb79-20d0c696082c",
   "metadata": {},
   "source": [
    "<h3>Encoding</h3>"
   ]
  },
  {
   "cell_type": "markdown",
   "id": "648e8f13-c213-41ad-9fc8-9af7e03a4094",
   "metadata": {},
   "source": [
    "- Intent to learn does not matter\n",
    "- Depth of processing affects memory retrieval\n",
    "- \"Deep processing\" focuses on the meaning of the information\n",
    "- Structured information is much easier to encode to memory than disorganized information\n",
    "    - An effective way to force yourself to process information deeply is to explain the study material in your own (different) words\n",
    "    - This is why when taking notes, it is not helpful to copy words verbatim. Use your own words as much as possible\n",
    "    - The reason why typing notes on a computer is often less effective than handwriting notes is that it encourages copying verbatim. Handwriting forces you to paraphrase and use your own words because it is slower\n",
    "- To remember effectively, the processes used during practice need to correspond with the processes during use\n",
    "- State-dependence: How your physical and mental states drive your memory\n",
    "    - Memory relies on chemical processes to form and strengthen pathways between neurons\n",
    "    - If you encode memories while on caffeine, then you are more likely to retrieve them when on caffeine. The same goes for other drugs and medications (including alcohol)\n",
    "    - Recommendations\n",
    "        - Spend at least 1/4 of your time simulating the state you will likely be in when you need to retrieve the memories that you are encoding\n",
    "        - Study while in various physical and mental states (different moods, energy levels, etc)\n",
    "- Context-dependence: Why your Environment Matters\n",
    "    - Our brains encode context as part of the memory trace like a snapshot of the setting at the moment of creating the memory\n",
    "    - Recommendations\n",
    "        - Spend 1/2 of time simulate the environmental conditions that you would encounter during active retrieval (noise, distractions, people, etc.)\n",
    "        - Spend the other 1/2 of time in other environments\n",
    "        - Test yourself with different kinds of questions (what/how/why)\n",
    "        - Maximize flexibility by minimizing context or adding variety"
   ]
  },
  {
   "cell_type": "markdown",
   "id": "e9f856f0-7f39-4b70-a875-845e6a1bf1f3",
   "metadata": {},
   "source": [
    "<h3>Storage</h3>"
   ]
  }
 ],
 "metadata": {
  "kernelspec": {
   "display_name": "Python 3 (ipykernel)",
   "language": "python",
   "name": "python3"
  },
  "language_info": {
   "codemirror_mode": {
    "name": "ipython",
    "version": 3
   },
   "file_extension": ".py",
   "mimetype": "text/x-python",
   "name": "python",
   "nbconvert_exporter": "python",
   "pygments_lexer": "ipython3",
   "version": "3.11.4"
  }
 },
 "nbformat": 4,
 "nbformat_minor": 5
}
