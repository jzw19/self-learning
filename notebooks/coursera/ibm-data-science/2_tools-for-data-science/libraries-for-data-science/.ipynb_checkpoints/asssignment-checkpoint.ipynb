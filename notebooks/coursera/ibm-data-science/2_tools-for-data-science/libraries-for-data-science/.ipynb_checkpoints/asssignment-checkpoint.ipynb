{
 "cells": [
  {
   "cell_type": "markdown",
   "id": "d6686084-5161-4ebd-991c-bcc8d657572f",
   "metadata": {},
   "source": [
    "<h1>Assignment for Create and Share Your Jupyter Notebook</h1>"
   ]
  },
  {
   "cell_type": "markdown",
   "id": "226acfd9-c093-4429-ae0e-9f84de55a949",
   "metadata": {},
   "source": [
    "<h2>Introduction</h2>\n",
    "(Exercise 3)"
   ]
  },
  {
   "cell_type": "markdown",
   "id": "72eaf5c0-a4c1-4009-90ca-7ef9890cc100",
   "metadata": {},
   "source": [
    "<h2>Data Science Languages</h2>\n",
    "<ul>\n",
    "    <li>Python</li>\n",
    "    <li>R</li>\n",
    "    <li>Scala</li>\n",
    "</ul>"
   ]
  },
  {
   "cell_type": "markdown",
   "id": "045560af-64d1-4af5-b2f4-70edbdf1b51d",
   "metadata": {},
   "source": [
    "<h2>Data Science Libraries</h2>\n",
    "<ul>\n",
    "  <li>Pandas</li>\n",
    "  <li>Numpy</li>\n",
    "  <li>Matplotlib</li>\n",
    "  <li>Seaborn</li>\n",
    "  <li>Scikit-learn</li>\n",
    "  <li>TensorFlow</li>\n",
    "  <li>Keras</li>\n",
    "</ul>"
   ]
  },
  {
   "cell_type": "markdown",
   "id": "8007866b-f972-405a-8201-a131013a47b6",
   "metadata": {},
   "source": [
    "<h2>Data Science Tools</h2>\n",
    "<ul>\n",
    "  <li>PostgreSQL</li>\n",
    "  <li>MongoDB</li>\n",
    "  <li>Ceph</li>\n",
    "  <li>Apache Airflow</li>\n",
    "  <li>Pixie Dust</li>\n",
    "  <li>ModelDB</li>\n",
    "  <li>Spyder</li>\n",
    "</ul>"
   ]
  },
  {
   "cell_type": "markdown",
   "id": "9dfa3263-cb98-4f8e-8af3-eb80a27eaff5",
   "metadata": {},
   "source": [
    "<h2>Arithmetic Expression</h2>\n",
    "$2^2$"
   ]
  },
  {
   "cell_type": "markdown",
   "id": "758aa507-4310-4f9a-8eb2-b7a1caf54aea",
   "metadata": {},
   "source": [
    "<h2>Code Cells</h2>\n",
    "(Exercises 8 & 9)"
   ]
  },
  {
   "cell_type": "code",
   "execution_count": 6,
   "id": "2b17c207-8f42-4857-bec1-d9ffdb1bcbc3",
   "metadata": {},
   "outputs": [
    {
     "name": "stdin",
     "output_type": "stream",
     "text": [
      "First number:  2\n",
      "Second number:  3\n"
     ]
    },
    {
     "name": "stdout",
     "output_type": "stream",
     "text": [
      "Sum: 5\n",
      "Product: 6\n"
     ]
    }
   ],
   "source": [
    "num1 = int(input(\"First number: \"))\n",
    "num2 = int(input(\"Second number: \"))\n",
    "\n",
    "print(f\"Sum: {num1 + num2}\")\n",
    "print(f\"Product: {num1 * num2}\")"
   ]
  },
  {
   "cell_type": "code",
   "execution_count": 8,
   "id": "0f89b974-e760-4734-8fd6-f7e370d53c90",
   "metadata": {},
   "outputs": [
    {
     "name": "stdin",
     "output_type": "stream",
     "text": [
      "Enter number of minutes to convert to hours:  60\n"
     ]
    },
    {
     "name": "stdout",
     "output_type": "stream",
     "text": [
      "1.0 hours\n"
     ]
    }
   ],
   "source": [
    "minutes = int(input(\"Enter number of minutes to convert to hours: \"))\n",
    "\n",
    "print(f\"{minutes / 60.0} hours\")"
   ]
  },
  {
   "cell_type": "markdown",
   "id": "1b887b46-d570-4f82-b9e6-3df6174e2874",
   "metadata": {},
   "source": [
    "<h2>Author: Jimmy W.</h2>"
   ]
  }
 ],
 "metadata": {
  "kernelspec": {
   "display_name": "Python 3 (ipykernel)",
   "language": "python",
   "name": "python3"
  },
  "language_info": {
   "codemirror_mode": {
    "name": "ipython",
    "version": 3
   },
   "file_extension": ".py",
   "mimetype": "text/x-python",
   "name": "python",
   "nbconvert_exporter": "python",
   "pygments_lexer": "ipython3",
   "version": "3.12.3"
  }
 },
 "nbformat": 4,
 "nbformat_minor": 5
}
