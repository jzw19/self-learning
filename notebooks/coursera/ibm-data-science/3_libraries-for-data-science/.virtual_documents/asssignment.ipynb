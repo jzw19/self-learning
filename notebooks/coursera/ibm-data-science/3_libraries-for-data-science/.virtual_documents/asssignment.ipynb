




















num1 = int(input("First number: "))
num2 = int(input("Second number: "))

print(f"Sum: {num1 + num2}")
print(f"Product: {num1 * num2}")


minutes = int(input("Enter number of minutes to convert to hours: "))

print(f"{minutes / 60.0} hours")



