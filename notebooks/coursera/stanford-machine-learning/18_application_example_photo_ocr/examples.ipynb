{
 "cells": [
  {
   "cell_type": "markdown",
   "metadata": {},
   "source": [
    "# 🖼️ Photo OCR – Examples Notebook\n",
    "\n",
    "Toy demonstration of the pipeline concepts (text detection, recognition, error analysis)."
   ]
  },
  {
   "cell_type": "code",
   "execution_count": null,
   "metadata": {},
   "outputs": [],
   "source": [
    "import numpy as np\n",
    "import matplotlib.pyplot as plt\n",
    "from sklearn.linear_model import LogisticRegression\n",
    "from sklearn.metrics import precision_score, recall_score, f1_score\n",
    "\n",
    "# Simulate image patches: 0 = background, 1 = text\n",
    "np.random.seed(42)\n",
    "X = np.random.randn(200, 20)  # 200 patches, 20 features each\n",
    "y = np.random.randint(0, 2, size=200)\n",
    "\n",
    "clf = LogisticRegression().fit(X, y)\n",
    "y_pred = clf.predict(X)\n",
    "\n",
    "print('Precision:', precision_score(y, y_pred))\n",
    "print('Recall:', recall_score(y, y_pred))\n",
    "print('F1:', f1_score(y, y_pred))"
   ]
  },
  {
   "cell_type": "markdown",
   "metadata": {},
   "source": [
    "## Synthetic Character Recognition\n",
    "Here we generate fake 'character images' (vectors) and classify them."
   ]
  },
  {
   "cell_type": "code",
   "execution_count": null,
   "metadata": {},
   "outputs": [],
   "source": [
    "# Suppose characters 'A' and 'B'\n",
    "X_chars = np.random.randn(100, 10)\n",
    "y_chars = np.random.randint(0, 2, size=100)\n",
    "\n",
    "char_clf = LogisticRegression().fit(X_chars, y_chars)\n",
    "\n",
    "print('Accuracy on synthetic chars:', char_clf.score(X_chars, y_chars))"
   ]
  },
  {
   "cell_type": "markdown",
   "metadata": {},
   "source": [
    "## Artificial Data Synthesis\n",
    "We can simulate distortions (noise, rotation, scaling)."
   ]
  },
  {
   "cell_type": "code",
   "execution_count": null,
   "metadata": {},
   "outputs": [],
   "source": [
    "def distort_example(vec):\n",
    "    noise = 0.2 * np.random.randn(*vec.shape)\n",
    "    return vec + noise\n",
    "\n",
    "original = X_chars[0]\n",
    "distorted = distort_example(original)\n",
    "\n",
    "plt.plot(original, label='Original')\n",
    "plt.plot(distorted, label='Distorted')\n",
    "plt.legend(); plt.title('Synthetic Character Distortion')\n",
    "plt.show()"
   ]
  }
 ],
 "metadata": {
  "kernelspec": {
   "display_name": "Python 3",
   "language": "python",
   "name": "python3"
  },
  "language_info": {
   "name": "python",
   "version": "3.11"
  }
 },
 "nbformat": 4,
 "nbformat_minor": 2
}
