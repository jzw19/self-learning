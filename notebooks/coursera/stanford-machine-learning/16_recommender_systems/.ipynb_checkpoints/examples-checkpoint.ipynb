{
 "cells": [
  {
   "cell_type": "code",
   "execution_count": 2,
   "id": "01508617",
   "metadata": {},
   "outputs": [
    {
     "name": "stdout",
     "output_type": "stream",
     "text": [
      "Ratings matrix (users × items):\n",
      " [[5 4 0 0 1]\n",
      " [4 0 0 2 2]\n",
      " [0 0 5 4 0]\n",
      " [1 2 0 0 4]]\n"
     ]
    },
    {
     "data": {
      "image/png": "[encoded data removed]",
      "text/plain": [
       "<Figure size 500x400 with 1 Axes>"
      ]
     },
     "metadata": {},
     "output_type": "display_data"
    },
    {
     "name": "stdout",
     "output_type": "stream",
     "text": [
      "User 1 preference vector (content-based): [3. 1.]\n",
      "Predicted rating by User 1 for Item 3: 1.0000000000000004\n"
     ]
    },
    {
     "ename": "ValueError",
     "evalue": "matmul: Input operand 1 has a mismatch in its core dimension 0, with gufunc signature (n?,k),(k,m?)->(n?,m?) (size 4 is different from 5)",
     "output_type": "error",
     "traceback": [
      "\u001b[1;31m---------------------------------------------------------------------------\u001b[0m",
      "\u001b[1;31mValueError\u001b[0m                                Traceback (most recent call last)",
      "Cell \u001b[1;32mIn[2], line 78\u001b[0m\n\u001b[0;32m     75\u001b[0m error \u001b[38;5;241m=\u001b[39m (pred \u001b[38;5;241m-\u001b[39m R) \u001b[38;5;241m*\u001b[39m mask\n\u001b[0;32m     77\u001b[0m \u001b[38;5;66;03m# Compute gradients\u001b[39;00m\n\u001b[1;32m---> 78\u001b[0m X_grad \u001b[38;5;241m=\u001b[39m error \u001b[38;5;241m@\u001b[39m Theta \u001b[38;5;241m+\u001b[39m lam \u001b[38;5;241m*\u001b[39m X\n\u001b[0;32m     79\u001b[0m Theta_grad \u001b[38;5;241m=\u001b[39m error\u001b[38;5;241m.\u001b[39mT \u001b[38;5;241m@\u001b[39m X \u001b[38;5;241m+\u001b[39m lam \u001b[38;5;241m*\u001b[39m Theta\n\u001b[0;32m     81\u001b[0m \u001b[38;5;66;03m# Update\u001b[39;00m\n",
      "\u001b[1;31mValueError\u001b[0m: matmul: Input operand 1 has a mismatch in its core dimension 0, with gufunc signature (n?,k),(k,m?)->(n?,m?) (size 4 is different from 5)"
     ]
    }
   ],
   "source": [
    "import numpy as np\n",
    "import matplotlib.pyplot as plt\n",
    "\n",
    "# --------------------------\n",
    "# Setup toy rating matrix\n",
    "# --------------------------\n",
    "# Users = rows, Items = cols\n",
    "R = np.array([\n",
    "    [5, 4, 0, 0],\n",
    "    [3, 0, 0, 2],\n",
    "    [4, 0, 0, 3],\n",
    "    [0, 2, 4, 0],\n",
    "    [0, 0, 5, 4]\n",
    "], dtype=float)\n",
    "\n",
    "num_users, num_items = R.shape\n",
    "num_features = 3  # latent features\n",
    "\n",
    "# Mask for observed ratings\n",
    "mask = (R > 0).astype(float)\n",
    "\n",
    "# --------------------------\n",
    "# Initialize parameters\n",
    "# --------------------------\n",
    "np.random.seed(42)\n",
    "X = np.random.randn(num_items, num_features)   # item features\n",
    "Theta = np.random.randn(num_users, num_features)  # user preferences\n",
    "\n",
    "# --------------------------\n",
    "# Gradient descent\n",
    "# --------------------------\n",
    "alpha = 0.01\n",
    "lam = 0.1\n",
    "num_iters = 500\n",
    "\n",
    "for it in range(num_iters):\n",
    "    # Predicted ratings: shape (num_users, num_items)\n",
    "    pred = (X @ Theta.T).T\n",
    "    \n",
    "    # Compute error only where R has ratings\n",
    "    error = (pred - R) * mask\n",
    "    \n",
    "    # Gradients\n",
    "    X_grad = error.T @ Theta + lam * X\n",
    "    Theta_grad = error @ X + lam * Theta\n",
    "    \n",
    "    # Update\n",
    "    X -= alpha * X_grad\n",
    "    Theta -= alpha * Theta_grad\n",
    "\n",
    "# --------------------------\n",
    "# Final predictions\n",
    "# --------------------------\n",
    "pred_final = (X @ Theta.T).T\n",
    "\n",
    "print(\"Original ratings:\\n\", R)\n",
    "print(\"\\nPredicted ratings:\\n\", np.round(pred_final, 2))\n",
    "\n",
    "# --------------------------\n",
    "# Visualization\n",
    "# --------------------------\n",
    "plt.figure(figsize=(10,4))\n",
    "plt.subplot(1,2,1)\n",
    "plt.title(\"Original Ratings (R)\")\n",
    "plt.imshow(R, cmap=\"coolwarm\", aspect=\"auto\")\n",
    "plt.colorbar()\n",
    "\n",
    "plt.subplot(1,2,2)\n",
    "plt.title(\"Predicted Ratings\")\n",
    "plt.imshow(pred_final, cmap=\"coolwarm\", aspect=\"auto\")\n",
    "plt.colorbar()\n",
    "plt.show()\n"
   ]
  },
  {
   "cell_type": "code",
   "execution_count": null,
   "id": "eaddf065-9683-46ea-bf75-0fa1b996fe06",
   "metadata": {},
   "outputs": [],
   "source": []
  }
 ],
 "metadata": {
  "kernelspec": {
   "display_name": "Python 3 (ipykernel)",
   "language": "python",
   "name": "python3"
  },
  "language_info": {
   "codemirror_mode": {
    "name": "ipython",
    "version": 3
   },
   "file_extension": ".py",
   "mimetype": "text/x-python",
   "name": "python",
   "nbconvert_exporter": "python",
   "pygments_lexer": "ipython3",
   "version": "3.12.3"
  }
 },
 "nbformat": 4,
 "nbformat_minor": 5
}
