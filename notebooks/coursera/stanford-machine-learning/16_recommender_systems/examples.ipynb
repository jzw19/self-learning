{
 "cells": [
  {
   "cell_type": "code",
   "execution_count": null,
   "id": "eaddf065-9683-46ea-bf75-0fa1b996fe06",
   "metadata": {},
   "outputs": [
    {
     "name": "stdout",
     "output_type": "stream",
     "text": [
      "Collecting numpy\n",
      "  Downloading numpy-2.3.3-cp313-cp313-win_amd64.whl.metadata (60 kB)\n",
      "Downloading numpy-2.3.3-cp313-cp313-win_amd64.whl (12.8 MB)\n",
      "   ---------------------------------------- 0.0/12.8 MB ? eta -:--:--\n",
      "   ---- ----------------------------------- 1.6/12.8 MB 9.5 MB/s eta 0:00:02\n",
      "   ---------- ----------------------------- 3.4/12.8 MB 9.6 MB/s eta 0:00:01\n",
      "   --------------- ------------------------ 5.0/12.8 MB 8.8 MB/s eta 0:00:01\n",
      "   ------------------- -------------------- 6.3/12.8 MB 8.3 MB/s eta 0:00:01\n",
      "   ------------------------ --------------- 7.9/12.8 MB 7.9 MB/s eta 0:00:01\n",
      "   ---------------------------- ----------- 9.2/12.8 MB 7.7 MB/s eta 0:00:01\n",
      "   --------------------------------- ------ 10.7/12.8 MB 7.6 MB/s eta 0:00:01\n",
      "   -------------------------------------- - 12.3/12.8 MB 7.6 MB/s eta 0:00:01\n",
      "   ---------------------------------------- 12.8/12.8 MB 7.4 MB/s eta 0:00:00\n",
      "Installing collected packages: numpy\n",
      "Successfully installed numpy-2.3.3\n"
     ]
    },
    {
     "name": "stderr",
     "output_type": "stream",
     "text": [
      "\n",
      "[notice] A new release of pip is available: 25.0.1 -> 25.2\n",
      "[notice] To update, run: python.exe -m pip install --upgrade pip\n"
     ]
    }
   ],
   "source": [
    "import sys\n",
    "# !{sys.executable} -m pip install --user numpy\n",
    "!{sys.executable} -m pip install --user matplotlib"
   ]
  },
  {
   "cell_type": "code",
   "execution_count": 3,
   "id": "01508617",
   "metadata": {},
   "outputs": [
    {
     "ename": "ModuleNotFoundError",
     "evalue": "No module named 'matplotlib'",
     "output_type": "error",
     "traceback": [
      "\u001b[31m---------------------------------------------------------------------------\u001b[39m",
      "\u001b[31mModuleNotFoundError\u001b[39m                       Traceback (most recent call last)",
      "\u001b[36mCell\u001b[39m\u001b[36m \u001b[39m\u001b[32mIn[3]\u001b[39m\u001b[32m, line 2\u001b[39m\n\u001b[32m      1\u001b[39m \u001b[38;5;28;01mimport\u001b[39;00m\u001b[38;5;250m \u001b[39m\u001b[34;01mnumpy\u001b[39;00m\u001b[38;5;250m \u001b[39m\u001b[38;5;28;01mas\u001b[39;00m\u001b[38;5;250m \u001b[39m\u001b[34;01mnp\u001b[39;00m\n\u001b[32m----> \u001b[39m\u001b[32m2\u001b[39m \u001b[38;5;28;01mimport\u001b[39;00m\u001b[38;5;250m \u001b[39m\u001b[34;01mmatplotlib\u001b[39;00m\u001b[34;01m.\u001b[39;00m\u001b[34;01mpyplot\u001b[39;00m\u001b[38;5;250m \u001b[39m\u001b[38;5;28;01mas\u001b[39;00m\u001b[38;5;250m \u001b[39m\u001b[34;01mplt\u001b[39;00m\n\u001b[32m      4\u001b[39m \u001b[38;5;66;03m# --------------------------\u001b[39;00m\n\u001b[32m      5\u001b[39m \u001b[38;5;66;03m# Setup toy rating matrix\u001b[39;00m\n\u001b[32m      6\u001b[39m \u001b[38;5;66;03m# --------------------------\u001b[39;00m\n\u001b[32m      7\u001b[39m \u001b[38;5;66;03m# Users = rows, Items = cols\u001b[39;00m\n\u001b[32m      8\u001b[39m R = np.array([\n\u001b[32m      9\u001b[39m     [\u001b[32m5\u001b[39m, \u001b[32m4\u001b[39m, \u001b[32m0\u001b[39m, \u001b[32m0\u001b[39m],\n\u001b[32m     10\u001b[39m     [\u001b[32m3\u001b[39m, \u001b[32m0\u001b[39m, \u001b[32m0\u001b[39m, \u001b[32m2\u001b[39m],\n\u001b[32m   (...)\u001b[39m\u001b[32m     13\u001b[39m     [\u001b[32m0\u001b[39m, \u001b[32m0\u001b[39m, \u001b[32m5\u001b[39m, \u001b[32m4\u001b[39m]\n\u001b[32m     14\u001b[39m ], dtype=\u001b[38;5;28mfloat\u001b[39m)\n",
      "\u001b[31mModuleNotFoundError\u001b[39m: No module named 'matplotlib'"
     ]
    }
   ],
   "source": [
    "import numpy as np\n",
    "import matplotlib.pyplot as plt\n",
    "\n",
    "# --------------------------\n",
    "# Setup toy rating matrix\n",
    "# --------------------------\n",
    "# Users = rows, Items = cols\n",
    "R = np.array([\n",
    "    [5, 4, 0, 0],\n",
    "    [3, 0, 0, 2],\n",
    "    [4, 0, 0, 3],\n",
    "    [0, 2, 4, 0],\n",
    "    [0, 0, 5, 4]\n",
    "], dtype=float)\n",
    "\n",
    "num_users, num_items = R.shape\n",
    "num_features = 3  # latent features\n",
    "\n",
    "# Mask for observed ratings\n",
    "mask = (R > 0).astype(float)\n",
    "\n",
    "# --------------------------\n",
    "# Initialize parameters\n",
    "# --------------------------\n",
    "np.random.seed(42)\n",
    "X = np.random.randn(num_items, num_features)   # item features\n",
    "Theta = np.random.randn(num_users, num_features)  # user preferences\n",
    "\n",
    "# --------------------------\n",
    "# Gradient descent\n",
    "# --------------------------\n",
    "alpha = 0.01\n",
    "lam = 0.1\n",
    "num_iters = 500\n",
    "\n",
    "for it in range(num_iters):\n",
    "    # Predicted ratings: shape (num_users, num_items)\n",
    "    pred = (X @ Theta.T).T\n",
    "    \n",
    "    # Compute error only where R has ratings\n",
    "    error = (pred - R) * mask\n",
    "    \n",
    "    # Gradients\n",
    "    X_grad = error.T @ Theta + lam * X\n",
    "    Theta_grad = error @ X + lam * Theta\n",
    "    \n",
    "    # Update\n",
    "    X -= alpha * X_grad\n",
    "    Theta -= alpha * Theta_grad\n",
    "\n",
    "# --------------------------\n",
    "# Final predictions\n",
    "# --------------------------\n",
    "pred_final = (X @ Theta.T).T\n",
    "\n",
    "print(\"Original ratings:\\n\", R)\n",
    "print(\"\\nPredicted ratings:\\n\", np.round(pred_final, 2))\n",
    "\n",
    "# --------------------------\n",
    "# Visualization\n",
    "# --------------------------\n",
    "plt.figure(figsize=(10,4))\n",
    "plt.subplot(1,2,1)\n",
    "plt.title(\"Original Ratings (R)\")\n",
    "plt.imshow(R, cmap=\"coolwarm\", aspect=\"auto\")\n",
    "plt.colorbar()\n",
    "\n",
    "plt.subplot(1,2,2)\n",
    "plt.title(\"Predicted Ratings\")\n",
    "plt.imshow(pred_final, cmap=\"coolwarm\", aspect=\"auto\")\n",
    "plt.colorbar()\n",
    "plt.show()\n"
   ]
  }
 ],
 "metadata": {
  "kernelspec": {
   "display_name": "Python 3",
   "language": "python",
   "name": "python3"
  },
  "language_info": {
   "codemirror_mode": {
    "name": "ipython",
    "version": 3
   },
   "file_extension": ".py",
   "mimetype": "text/x-python",
   "name": "python",
   "nbconvert_exporter": "python",
   "pygments_lexer": "ipython3",
   "version": "3.13.3"
  }
 },
 "nbformat": 4,
 "nbformat_minor": 5
}
